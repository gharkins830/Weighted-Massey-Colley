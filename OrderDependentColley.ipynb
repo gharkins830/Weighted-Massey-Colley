{
 "cells": [
  {
   "cell_type": "markdown",
   "id": "10e89daf-dbc5-4f8f-9eee-176740492d2a",
   "metadata": {},
   "source": [
    "## Order Dependent Colley\n",
    "\n",
    "This notebook contains an order dependent version of Colley’s method. If you want to use Colley’s method, but you want a team’s win against another team to mean something different at the beginning and end of the season, this is the notebook will do that for you. If you want to assume that teams change over the coarse of the season, this is a good notebook for you.\n",
    "\n",
    "This notebook clue values wins, losses, and who those are against, while the Order Dependent Massey notebook is more concerned with point differential of results. This notebook does not allow you to add weights to games, though that can be done in a similar way to how it’s done in OrderDependentMassey.\n",
    "\n",
    "-Grant Harkins"
   ]
  },
  {
   "cell_type": "code",
   "execution_count": null,
   "id": "f5cf718d-7dc9-4c43-97c0-1135f108a46d",
   "metadata": {},
   "outputs": [],
   "source": [
    "#This cell just collects filepaths and filenames to read later\n",
    "pathGames = '/FILEPATH/'\n",
    "pathTeams = '/FILEPATH/'\n",
    "gameFilename = '.txt'\n",
    "teamFilename = '.txt'"
   ]
  },
  {
   "cell_type": "code",
   "execution_count": null,
   "id": "3cca068d-d710-4df8-9342-e765035381aa",
   "metadata": {},
   "outputs": [],
   "source": [
    "import pandas as pd\n",
    "\n",
    "teamNames = pd.read_csv(pathTeams + teamFilename, header = None)\n",
    "numTeams = len(teamNames)"
   ]
  },
  {
   "cell_type": "code",
   "execution_count": null,
   "id": "8317f368-49aa-4a24-ad69-65f3eb51f764",
   "metadata": {},
   "outputs": [],
   "source": [
    "#column 0 of the game file is days since 1/1/000\n",
    "#column 1 is YYYYMMDD\n",
    "#column 2 is team 1 id\n",
    "#column 3 is team 1 homefield (1= home, -1 = away, 0 = neutral\n",
    "#column 4 team1 score\n",
    "#column 5 team2 id\n",
    "#column 6 is team 2 homefield\n",
    "#column 7 is team 2 score\n",
    "\n",
    "games = pd.read_csv(pathGames + gameFilename, header = None)\n",
    "ThnumGames = len(games)"
   ]
  },
  {
   "cell_type": "code",
   "execution_count": null,
   "id": "86afa59e-f979-4a53-a251-3a77e19daf35",
   "metadata": {},
   "outputs": [],
   "source": [
    "#The Calculations\n",
    "\n",
    "import numpy as np\n",
    "\n",
    "K = 1 #Each game counts as having been played once. You can increase this value for faster covergence \n",
    "#of ratings, but it will converge with less information \n",
    "\n",
    "ratings = (1/2)*np.ones(numTeams)\n",
    "wins = []\n",
    "losses = []\n",
    "oppRatings = []\n",
    "\n",
    "for i in range(numTeams):\n",
    "    wins.append(0)\n",
    "    losses.append(0)\n",
    "    oppRatings.append(0)\n",
    "\n",
    "numberCorrectPredictions = 0\n",
    "\n",
    "for i in range(numGames):\n",
    "    team1ID = games.loc[i,2] - 1\n",
    "    team1Score = games.loc[i,4]\n",
    "    team1Loc = games.loc[i,3]\n",
    "\n",
    "    team2ID = games.loc[i,5] - 1\n",
    "    team2Score = games.loc[i,7]\n",
    "    team2Loc = games.loc[i,6]\n",
    "\n",
    "    currentDay = games.loc[i,0]\n",
    "\n",
    "    if team1Score > team2Score and ratings[team1ID] > ratings[team2ID] and (i >= 150):\n",
    "        numberCorrectPredictions += 1\n",
    "    elif team2Score > team1Score and ratings[team2ID] > ratings[team1ID] and (i >= 150):\n",
    "        numberCorrectPredictions += 1\n",
    "    elif team1Score == team2Score and ratings[team1ID] == ratings[team2ID] and (i >= 150):\n",
    "        numberCorrectPredictions += 1\n",
    "\n",
    "    if team1Score > team2Score:\n",
    "        wins[team1ID] += K\n",
    "        losses[team2ID] += K\n",
    "    elif team2Score > team1Score:\n",
    "        wins[team2ID] += K\n",
    "        losses[team1ID] += K\n",
    "\n",
    "    oppRatings[team1ID] += K*ratings[team2ID]\n",
    "    oppRatings[team2ID] += K*ratings[team1ID]\n",
    "\n",
    "    ratings[team1ID] = (1 + (wins[team1ID] - losses[team1ID]) / 2 + oppRatings[team1ID]) / (2 + wins[team1ID] + losses[team1ID])\n",
    "    ratings[team2ID] = (1 + (wins[team2ID] - losses[team2ID]) / 2 + oppRatings[team2ID]) / (2 + wins[team2ID] + losses[team2ID])"
   ]
  },
  {
   "cell_type": "markdown",
   "id": "420a45ef-b68e-4440-a9d9-290891061841",
   "metadata": {},
   "source": [
    "## Printing and Sorting the Rankings/Ratings"
   ]
  },
  {
   "cell_type": "code",
   "execution_count": null,
   "id": "13828c50-3ef2-43f5-89c7-b5b7e80569e4",
   "metadata": {},
   "outputs": [],
   "source": [
    "iSort = np.argsort(-ratings)\n",
    "k = 0\n",
    "\n",
    "print('\\n\\n************** OD Colley Rating Method **************\\n')\n",
    "print('===========================')\n",
    "print('Rank   Rating      Team   ')\n",
    "print('===========================')\n",
    "if k == 0:\n",
    "    for i in range(numTeams):\n",
    "        print(f'{i+1:4d}   {ratings[iSort[i]]:.5f}  {teamNames.loc[iSort[i],1]}')\n",
    "else:\n",
    "    for i in range(k):\n",
    "        print(f'{i+1:4d}   {ratings[iSort[i]]:.5f}  {teamNames.loc[iSort[i],1]}')\n",
    "\n",
    "print('')   # extra carriage return\n",
    "\n",
    "print(f'Predictability: {numberCorrectPredictions/(numGames-150)*100:.2f}%')\n",
    "#print(f'mean squared error is {mnSqErr}')\n",
    "\n",
    "print(sum(ratings))"
   ]
  }
 ],
 "metadata": {
  "kernelspec": {
   "display_name": "Python 3.10",
   "language": "python",
   "name": "python-3.10"
  },
  "language_info": {
   "codemirror_mode": {
    "name": "ipython",
    "version": 3
   },
   "file_extension": ".py",
   "mimetype": "text/x-python",
   "name": "python",
   "nbconvert_exporter": "python",
   "pygments_lexer": "ipython3",
   "version": "3.10.4"
  }
 },
 "nbformat": 4,
 "nbformat_minor": 5
}
