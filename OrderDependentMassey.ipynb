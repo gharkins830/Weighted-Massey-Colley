{
 "cells": [
  {
   "cell_type": "markdown",
   "id": "7a01c222-dac9-45b1-a229-f2034fd6c0ba",
   "metadata": {},
   "source": [
    "## Order Dependent Massey\n",
    "\n",
    "This notebook contains an order dependent version of Massey’s method. If you want to use Massey’s method, but you want a team’s win against another team to mean something different at the beginning and end of the season, this is the notebook will do that for you. If you want to assume that teams change over the coarse of the season, this is a good notebook for you.\n",
    "\n",
    "This notebook values point differential of results, while the Order Dependent Colley notebook only values wins, losses, and who those are against\n",
    "\n",
    "-Grant Harkins"
   ]
  },
  {
   "cell_type": "code",
   "execution_count": null,
   "id": "25196d84-516d-4326-b9e8-0153d5b80ecf",
   "metadata": {},
   "outputs": [],
   "source": [
    "#This cell just collects filepaths and filenames to read later, and allows you to set your weights\n",
    "\n",
    "pathGames = '/FILEPATH/'#filepath for game file\n",
    "pathTeams = '/FILEPATH/' #filepath for team file\n",
    "gameFilename = '.txt'\n",
    "teamFilename = '.txt'\n",
    "\n",
    "#We got our data from masseyratings.com, so reading the files is based on the structure of those files\n",
    "\n",
    "#setting weights; if you want an unweighted system, set all weights to same value\n",
    "weightHomeWin = 2\n",
    "weightAwayWin = 4\n",
    "weightNeutralWin = 3\n",
    "segmentWeighting = [2,3]"
   ]
  },
  {
   "cell_type": "code",
   "execution_count": null,
   "id": "d3592317-9c1b-4619-be3c-c9a6a8c9605a",
   "metadata": {},
   "outputs": [],
   "source": [
    "import pandas as pd\n",
    "\n",
    "teamNames = pd.read_csv(pathTeams + teamFilename, header = None)\n",
    "numTeams = len(teamNames)"
   ]
  },
  {
   "cell_type": "code",
   "execution_count": null,
   "id": "57eb71c2-0ef0-4251-b7f0-9e22b88b9986",
   "metadata": {},
   "outputs": [],
   "source": [
    "#column 0 of the game file is days since 1/1/000\n",
    "#column 1 is YYYYMMDD\n",
    "#column 2 is team 1 id\n",
    "#column 3 is team 1 homefield (1= home, -1 = away, 0 = neutral\n",
    "#column 4 team1 score\n",
    "#column 5 team2 id\n",
    "#column 6 is team 2 homefield\n",
    "#column 7 is team 2 score\n",
    "\n",
    "games = pd.read_csv(pathGames + gameFilename, header = None)\n",
    "numGames = len(games)\n",
    "print(numGames)"
   ]
  },
  {
   "cell_type": "code",
   "execution_count": null,
   "id": "8cff608e-d440-4340-8617-10d0d2bf39f4",
   "metadata": {},
   "outputs": [],
   "source": [
    "import numpy as np\n",
    "from math import ceil\n",
    "\n",
    "dayBeforeSeason = games.loc[0,0] - 1\n",
    "lastDayOfSeason = games.loc[len(games)-1,0]\n",
    "\n",
    "ratings = np.zeros(numTeams)\n",
    "pointDiffs = []\n",
    "tGames = []\n",
    "oppRatings = []\n",
    "for i in range(numTeams):\n",
    "    pointDiffs.append(0)\n",
    "    tGames.append(0)\n",
    "    oppRatings.append(0)\n",
    "\n",
    "\n",
    "numberCorrectPredictions = 0\n",
    "\n",
    "\n",
    "for i in range(numGames):\n",
    "    team1ID = games.loc[i,2] - 1\n",
    "    team1Score = games.loc[i,4]\n",
    "    team1Loc = games.loc[i,3]\n",
    "\n",
    "    team2ID = games.loc[i,5] - 1\n",
    "    team2Score = games.loc[i,7]\n",
    "    team2Loc = games.loc[i,6]\n",
    "\n",
    "    currentDay = games.loc[i,0]\n",
    "\n",
    "    if team1Score > team2Score and ratings[team1ID] > ratings[team2ID]:# and (i >= 300):\n",
    "        numberCorrectPredictions += 1\n",
    "    elif team2Score > team1Score and ratings[team2ID] > ratings[team1ID]:# and (i >= 300):\n",
    "        numberCorrectPredictions += 1\n",
    "    elif team1Score == team2Score and ratings[team1ID] == ratings[team2ID]: #and (i >= 300):\n",
    "        numberCorrectPredictions += 1\n",
    "\n",
    "    numberSegments = len(segmentWeighting)\n",
    "    weightIndex = ceil(numberSegments*((currentDay-dayBeforeSeason)/(lastDayOfSeason-dayBeforeSeason))) - 1\n",
    "    timeWeight = segmentWeighting[weightIndex]\n",
    "\n",
    "    if team1Score > team2Score:  # Team 1 won        \n",
    "        if (team1Loc == 1):      # Home win\n",
    "            K = weightHomeWin*timeWeight\n",
    "        elif (team1Loc == -1):   # Away win\n",
    "            K = weightAwayWin*timeWeight\n",
    "        else:                    # Neutral court win\n",
    "            K = weightNeutralWin*timeWeight\n",
    "    else:                        # Team 2 won\n",
    "        if (team2Loc == 1):      # Home win\n",
    "            K = weightHomeWin*timeWeight\n",
    "        elif (team2Loc == -1):   # Away win\n",
    "            K = weightAwayWin*timeWeight\n",
    "        else:                    # Neutral court win\n",
    "            K = weightNeutralWin*timeWeight\n",
    "            \n",
    "    #fill in the lists\n",
    "    pointDiffs[team1ID] += K*(team1Score - team2Score)\n",
    "    pointDiffs[team2ID] += K*(team2Score - team1Score)\n",
    "    tGames[team1ID] += K*1\n",
    "    tGames[team2ID] += K*1\n",
    "    oppRatings[team1ID] += K*ratings[team2ID]\n",
    "    oppRatings[team2ID] += K*ratings[team1ID]\n",
    "    \n",
    "    #update the ratings\n",
    "    ratings[team1ID] = (pointDiffs[team1ID] + oppRatings[team1ID]) / tGames[team1ID]\n",
    "    ratings[team2ID] = (pointDiffs[team2ID] + oppRatings[team2ID]) / tGames[team2ID]"
   ]
  },
  {
   "cell_type": "markdown",
   "id": "c5143f10-5c69-4830-80a3-4b614ab5d6d6",
   "metadata": {},
   "source": [
    "## Sorting and Printing Rankings/Ratings"
   ]
  },
  {
   "cell_type": "code",
   "execution_count": null,
   "id": "89cf19b6-cd71-4466-90a8-6514790c66e5",
   "metadata": {},
   "outputs": [],
   "source": [
    "\n",
    "iSort = np.argsort(-ratings)\n",
    "k = 0\n",
    "print('\\n\\n************** OD Massey Rating Method **************\\n')\n",
    "print('===========================')\n",
    "print('Rank   Rating      Team   ')\n",
    "print('===========================')\n",
    "if k == 0:\n",
    "    for i in range(numTeams):\n",
    "        print(f'{i+1:4d}   {ratings[iSort[i]]:.5f}  {teamNames.loc[iSort[i],1]}')\n",
    "else:\n",
    "    for i in range(k):\n",
    "        print(f'{i+1:4d}   {ratings[iSort[i]]:.5f}  {teamNames.loc[iSort[i],1]}')\n",
    "\n",
    "print('')   # extra carriage return\n",
    "\n",
    "print(f'Predictability: {numberCorrectPredictions/(numGames)*100:.2f}%')"
   ]
  }
 ],
 "metadata": {
  "kernelspec": {
   "display_name": "Python 3.10",
   "language": "python",
   "name": "python-3.10"
  },
  "language_info": {
   "codemirror_mode": {
    "name": "ipython",
    "version": 3
   },
   "file_extension": ".py",
   "mimetype": "text/x-python",
   "name": "python",
   "nbconvert_exporter": "python",
   "pygments_lexer": "ipython3",
   "version": "3.10.4"
  }
 },
 "nbformat": 4,
 "nbformat_minor": 5
}
