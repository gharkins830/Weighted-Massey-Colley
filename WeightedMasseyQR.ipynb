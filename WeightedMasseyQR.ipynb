{
 "cells": [
  {
   "cell_type": "markdown",
   "id": "4ba061c6-adf7-4167-93de-2f19a357488f",
   "metadata": {},
   "source": [
    "## Weighted Massey System\n",
    "\n",
    "This notebook runs the Massey method but allows you to add certain weights to each game. You can choose the weights for home wins, away wins, neutral wins, and based on when in the season the game occurred. This code differs from the order dependent Massey by having one team’s win against another always mean the same thing, aside from differences based on chosen weights. If you think that teams are more or less the same at the beginning and end of the season, this is a good notebook for you.\n",
    "\n",
    "-Grant Harkins"
   ]
  },
  {
   "cell_type": "code",
   "execution_count": null,
   "id": "9957fbff-d289-45b4-83f7-3f902eceebdc",
   "metadata": {},
   "outputs": [],
   "source": [
    "#This cell just collects filepaths and filenames to read later\n",
    "pathGames = '/FILEPATH/' #filepath for game file\n",
    "pathTeams = '/FILEPATH/' #filepath for team file\n",
    "gameFilename = '.txt'\n",
    "teamFilename = '.txt'\n",
    "\n",
    "#We got our data from masseyratings.com, so reading the files is based on the structure of those files"
   ]
  },
  {
   "cell_type": "code",
   "execution_count": null,
   "id": "eda7063e-3cc6-4e5e-a0c6-1e349039daf6",
   "metadata": {},
   "outputs": [],
   "source": [
    "#setting weights; if you want an unweighted system, set all weights to same value\n",
    "weightHomeWin = 3\n",
    "weightAwayWin = 4\n",
    "weightNeutralWin = 1\n",
    "segmentWeighting = [2,3] #can add more segments e.g. [1,2,3,4] weighs the quarters of the season\n",
    "\n",
    "#will useweighting?\n",
    "useWeighting = True"
   ]
  },
  {
   "cell_type": "code",
   "execution_count": null,
   "id": "5644b729-f535-456c-bfa9-18ad3773c86b",
   "metadata": {},
   "outputs": [],
   "source": [
    "import pandas as pd\n",
    "\n",
    "teamNames = pd.read_csv(pathTeams + teamFilename, header = None)\n",
    "numTeams = len(teamNames)"
   ]
  },
  {
   "cell_type": "code",
   "execution_count": null,
   "id": "f63f3d50-a74c-4510-9c10-716ba2ae6ab1",
   "metadata": {},
   "outputs": [],
   "source": [
    "#Data used was from masseyratings.com, which has the following structure\n",
    "#If the data you have has different structure, using the code as is will likely lead to errors\n",
    "\n",
    "#column 0 of the game file is days since 1/1/000\n",
    "#column 1 is YYYYMMDD\n",
    "#column 2 is team 1 id\n",
    "#column 3 is team 1 homefield (1= home, -1 = away, 0 = neutral\n",
    "#column 4 team1 score\n",
    "#column 5 team2 id\n",
    "#column 6 is team 2 homefield\n",
    "#column 7 is team 2 score\n",
    "\n",
    "games = pd.read_csv(pathGames + gameFilename, header = None)\n",
    "numGames = len(games)"
   ]
  },
  {
   "cell_type": "code",
   "execution_count": null,
   "id": "fa0433a0-47bf-45c8-8bf3-e823f6138872",
   "metadata": {},
   "outputs": [],
   "source": [
    "#This cell calculates the Massey matrix from the data\n",
    "\n",
    "import numpy as np\n",
    "from math import ceil\n",
    "\n",
    "masseyMatrix = np.zeros((numGames, numTeams))\n",
    "b = np.zeros(numGames)\n",
    "\n",
    "daysBeforeSeason = games.loc[0,0] - 1\n",
    "lastDayofSeason = games.loc[numGames-1,0]\n",
    "weightMatrix = np.zeros((numGames,numGames))\n",
    "\n",
    "for i in range(numGames):\n",
    "    team1ID = games.loc[i,2] - 1\n",
    "    team1Score = games.loc[i,4]\n",
    "    team1Loc = games.loc[i,3]\n",
    "\n",
    "    team2ID = games.loc[i,5] - 1\n",
    "    team2Score = games.loc[i,7]\n",
    "    team2Loc = games.loc[i,6]\n",
    "\n",
    "    currentDay = games.loc[i,0]\n",
    "\n",
    "    if useWeighting == True:\n",
    "        numSegments = len(segmentWeighting)\n",
    "        weightIndex = ceil(numSegments*((currentDay - daysBeforeSeason) / (lastDayofSeason - daysBeforeSeason))) - 1\n",
    "        timeWeight = segmentWeighting[weightIndex]\n",
    "    else:\n",
    "        timeWeight = 1\n",
    "        \n",
    "    if team1Score > team2Score:\n",
    "        if (team1Loc == 1):      # Home win\n",
    "            gameWeight = weightHomeWin*timeWeight\n",
    "        elif (team1Loc == -1):   # Away win\n",
    "            gameWeight = weightAwayWin*timeWeight\n",
    "        else:                    # Neutral court win\n",
    "            gameWeight = weightNeutralWin*timeWeight\n",
    "        masseyMatrix[i, team1ID] += 1 #massey matrix gets 1's and -1's\n",
    "        masseyMatrix[i, team2ID] -= 1\n",
    "        \n",
    "        weightMatrix[i,i] += gameWeight #weight matrix gets gameweight\n",
    "        \n",
    "    else:                        # Team 2 won\n",
    "        if (team2Loc == 1):      # Home win\n",
    "            gameWeight = weightHomeWin*timeWeight\n",
    "        elif (team2Loc == -1):   # Away win\n",
    "            gameWeight = weightAwayWin*timeWeight\n",
    "        else:                    # Neutral court win\n",
    "            gameWeight = weightNeutralWin*timeWeight\n",
    "        masseyMatrix[i, team1ID] -= 1\n",
    "        masseyMatrix[i, team2ID] += 1\n",
    "        \n",
    "        weightMatrix[i,i] += gameWeight\n",
    "    \n",
    "    b[i] = abs(team1Score - team2Score) #each entry in b is point differential of that game"
   ]
  },
  {
   "cell_type": "code",
   "execution_count": null,
   "id": "5bc726e8-6a48-402e-8dca-c664c6335b2b",
   "metadata": {},
   "outputs": [],
   "source": [
    "#Multiplying both sides by the weight matrix\n",
    "A = weightMatrix @ masseyMatrix\n",
    "b_p = weightMatrix @ b \n",
    "\n",
    "#solving the least squares, which should default to the sum of ratings being 0\n",
    "r = np.linalg.lstsq(A, b_p, rcond=None)[0]\n",
    "print(sum(r)) #checking that the sum of ratings is 0"
   ]
  },
  {
   "cell_type": "code",
   "execution_count": null,
   "id": "2f4d6353-e9d4-4c4d-8f60-8b79b194e4ac",
   "metadata": {},
   "outputs": [],
   "source": [
    "#Printing out ratings/rankings\n",
    "\n",
    "k = 0 # number of teams to show; k=0 will print all teams\n",
    "\n",
    "iSort = np.argsort(-r)\n",
    "\n",
    "print('\\n\\n************** MASSEY Rating Method **************\\n')\n",
    "print('===========================')\n",
    "print('Rank   Rating    Team   ')\n",
    "print('===========================')\n",
    "if k==0:\n",
    "    numberTeamToPrint = numTeams\n",
    "else:\n",
    "    numberTeamToPrint = k\n",
    "\n",
    "for i in range(numberTeamToPrint):\n",
    "    print(f'{i+1:4d}   {r[iSort[i]]:.5f}  {teamNames.loc[iSort[i],1]}')\n",
    "\n",
    "print('')   # extra carriage return"
   ]
  },
  {
   "cell_type": "code",
   "execution_count": null,
   "id": "a8eca639-c661-40da-8b86-cc986bcfdb23",
   "metadata": {},
   "outputs": [],
   "source": [
    "#going through the dataset to check the predictability percentage of the final rankings\n",
    "numberCorrectPredictions = 0\n",
    "for i in range(numGames):\n",
    "    team1ID = games.loc[i, 2] - 1 \n",
    "    team1Score = games.loc[i, 4]\n",
    "    team2ID = games.loc[i, 5] - 1 \n",
    "    team2Score = games.loc[i, 7]\n",
    "    \n",
    "    if team1Score > team2Score and r[team1ID] > r[team2ID]:\n",
    "        numberCorrectPredictions += 1\n",
    "    elif team2Score > team1Score and r[team2ID] > r[team1ID]:\n",
    "        numberCorrectPredictions += 1\n",
    "    elif team1Score == team2Score and r[team1ID] == r[team2ID]:\n",
    "        numberCorrectPredictions += 1\n",
    "\n",
    "print(f'Predictability: {numberCorrectPredictions/numGames*100:.2f}%') "
   ]
  }
 ],
 "metadata": {
  "kernelspec": {
   "display_name": "Python 3.10",
   "language": "python",
   "name": "python-3.10"
  },
  "language_info": {
   "codemirror_mode": {
    "name": "ipython",
    "version": 3
   },
   "file_extension": ".py",
   "mimetype": "text/x-python",
   "name": "python",
   "nbconvert_exporter": "python",
   "pygments_lexer": "ipython3",
   "version": "3.10.4"
  }
 },
 "nbformat": 4,
 "nbformat_minor": 5
}
